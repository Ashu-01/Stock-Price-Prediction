{
 "cells": [
  {
   "cell_type": "code",
   "execution_count": 1,
   "id": "02eccc77",
   "metadata": {},
   "outputs": [],
   "source": [
    "import pandas_datareader.data as pdr\n"
   ]
  },
  {
   "cell_type": "code",
   "execution_count": 2,
   "id": "928a993d",
   "metadata": {},
   "outputs": [],
   "source": [
    "key='0611223235d3e2874e5253a424db62d4a652f271'\n"
   ]
  },
  {
   "cell_type": "code",
   "execution_count": 3,
   "id": "52646c5f",
   "metadata": {},
   "outputs": [
    {
     "name": "stderr",
     "output_type": "stream",
     "text": [
      "C:\\Users\\ASHUTOSH\\AppData\\Local\\Programs\\Python\\Python310\\lib\\site-packages\\pandas_datareader\\tiingo.py:234: FutureWarning: In a future version of pandas all arguments of concat except for the argument 'objs' will be keyword-only.\n",
      "  return pd.concat(dfs, self._concat_axis)\n"
     ]
    }
   ],
   "source": [
    "df=pdr.get_data_tiingo('AAPL',api_key=key)\n"
   ]
  },
  {
   "cell_type": "code",
   "execution_count": 4,
   "id": "41f4616f",
   "metadata": {},
   "outputs": [],
   "source": [
    "df.to_csv('AAPL.csv')\n"
   ]
  },
  {
   "cell_type": "code",
   "execution_count": 5,
   "id": "3c51fa06",
   "metadata": {},
   "outputs": [],
   "source": [
    "import pandas as pd\n"
   ]
  },
  {
   "cell_type": "code",
   "execution_count": 6,
   "id": "8b86123f",
   "metadata": {},
   "outputs": [],
   "source": [
    "df=pd.read_csv('AApl.csv')\n"
   ]
  },
  {
   "cell_type": "code",
   "execution_count": 8,
   "id": "3b20b36c",
   "metadata": {},
   "outputs": [
    {
     "data": {
      "text/html": [
       "<div>\n",
       "<style scoped>\n",
       "    .dataframe tbody tr th:only-of-type {\n",
       "        vertical-align: middle;\n",
       "    }\n",
       "\n",
       "    .dataframe tbody tr th {\n",
       "        vertical-align: top;\n",
       "    }\n",
       "\n",
       "    .dataframe thead th {\n",
       "        text-align: right;\n",
       "    }\n",
       "</style>\n",
       "<table border=\"1\" class=\"dataframe\">\n",
       "  <thead>\n",
       "    <tr style=\"text-align: right;\">\n",
       "      <th></th>\n",
       "      <th>symbol</th>\n",
       "      <th>date</th>\n",
       "      <th>close</th>\n",
       "      <th>high</th>\n",
       "      <th>low</th>\n",
       "      <th>open</th>\n",
       "      <th>volume</th>\n",
       "      <th>adjClose</th>\n",
       "      <th>adjHigh</th>\n",
       "      <th>adjLow</th>\n",
       "      <th>adjOpen</th>\n",
       "      <th>adjVolume</th>\n",
       "      <th>divCash</th>\n",
       "      <th>splitFactor</th>\n",
       "    </tr>\n",
       "  </thead>\n",
       "  <tbody>\n",
       "    <tr>\n",
       "      <th>0</th>\n",
       "      <td>AAPL</td>\n",
       "      <td>2018-01-08 00:00:00+00:00</td>\n",
       "      <td>174.35</td>\n",
       "      <td>175.6100</td>\n",
       "      <td>173.93</td>\n",
       "      <td>174.35</td>\n",
       "      <td>20134092</td>\n",
       "      <td>41.393100</td>\n",
       "      <td>41.692242</td>\n",
       "      <td>41.293386</td>\n",
       "      <td>41.393100</td>\n",
       "      <td>80536368</td>\n",
       "      <td>0.0</td>\n",
       "      <td>1.0</td>\n",
       "    </tr>\n",
       "    <tr>\n",
       "      <th>1</th>\n",
       "      <td>AAPL</td>\n",
       "      <td>2018-01-09 00:00:00+00:00</td>\n",
       "      <td>174.33</td>\n",
       "      <td>175.0600</td>\n",
       "      <td>173.41</td>\n",
       "      <td>174.55</td>\n",
       "      <td>21262614</td>\n",
       "      <td>41.388352</td>\n",
       "      <td>41.561664</td>\n",
       "      <td>41.169931</td>\n",
       "      <td>41.440583</td>\n",
       "      <td>85050456</td>\n",
       "      <td>0.0</td>\n",
       "      <td>1.0</td>\n",
       "    </tr>\n",
       "    <tr>\n",
       "      <th>2</th>\n",
       "      <td>AAPL</td>\n",
       "      <td>2018-01-10 00:00:00+00:00</td>\n",
       "      <td>174.29</td>\n",
       "      <td>174.3000</td>\n",
       "      <td>173.00</td>\n",
       "      <td>173.16</td>\n",
       "      <td>23589129</td>\n",
       "      <td>41.378855</td>\n",
       "      <td>41.381229</td>\n",
       "      <td>41.072591</td>\n",
       "      <td>41.110578</td>\n",
       "      <td>94356516</td>\n",
       "      <td>0.0</td>\n",
       "      <td>1.0</td>\n",
       "    </tr>\n",
       "    <tr>\n",
       "      <th>3</th>\n",
       "      <td>AAPL</td>\n",
       "      <td>2018-01-11 00:00:00+00:00</td>\n",
       "      <td>175.28</td>\n",
       "      <td>175.4900</td>\n",
       "      <td>174.49</td>\n",
       "      <td>174.59</td>\n",
       "      <td>17523256</td>\n",
       "      <td>41.613895</td>\n",
       "      <td>41.663752</td>\n",
       "      <td>41.426338</td>\n",
       "      <td>41.450079</td>\n",
       "      <td>70093024</td>\n",
       "      <td>0.0</td>\n",
       "      <td>1.0</td>\n",
       "    </tr>\n",
       "    <tr>\n",
       "      <th>4</th>\n",
       "      <td>AAPL</td>\n",
       "      <td>2018-01-12 00:00:00+00:00</td>\n",
       "      <td>177.09</td>\n",
       "      <td>177.3600</td>\n",
       "      <td>175.65</td>\n",
       "      <td>176.18</td>\n",
       "      <td>25039531</td>\n",
       "      <td>42.043614</td>\n",
       "      <td>42.107716</td>\n",
       "      <td>41.701738</td>\n",
       "      <td>41.827567</td>\n",
       "      <td>100158124</td>\n",
       "      <td>0.0</td>\n",
       "      <td>1.0</td>\n",
       "    </tr>\n",
       "    <tr>\n",
       "      <th>...</th>\n",
       "      <td>...</td>\n",
       "      <td>...</td>\n",
       "      <td>...</td>\n",
       "      <td>...</td>\n",
       "      <td>...</td>\n",
       "      <td>...</td>\n",
       "      <td>...</td>\n",
       "      <td>...</td>\n",
       "      <td>...</td>\n",
       "      <td>...</td>\n",
       "      <td>...</td>\n",
       "      <td>...</td>\n",
       "      <td>...</td>\n",
       "      <td>...</td>\n",
       "    </tr>\n",
       "    <tr>\n",
       "      <th>1254</th>\n",
       "      <td>AAPL</td>\n",
       "      <td>2022-12-30 00:00:00+00:00</td>\n",
       "      <td>129.93</td>\n",
       "      <td>129.9500</td>\n",
       "      <td>127.43</td>\n",
       "      <td>128.41</td>\n",
       "      <td>77034209</td>\n",
       "      <td>129.930000</td>\n",
       "      <td>129.950000</td>\n",
       "      <td>127.430000</td>\n",
       "      <td>128.410000</td>\n",
       "      <td>77034209</td>\n",
       "      <td>0.0</td>\n",
       "      <td>1.0</td>\n",
       "    </tr>\n",
       "    <tr>\n",
       "      <th>1255</th>\n",
       "      <td>AAPL</td>\n",
       "      <td>2023-01-03 00:00:00+00:00</td>\n",
       "      <td>125.07</td>\n",
       "      <td>130.9000</td>\n",
       "      <td>124.17</td>\n",
       "      <td>130.28</td>\n",
       "      <td>112117471</td>\n",
       "      <td>125.070000</td>\n",
       "      <td>130.900000</td>\n",
       "      <td>124.170000</td>\n",
       "      <td>130.280000</td>\n",
       "      <td>112117471</td>\n",
       "      <td>0.0</td>\n",
       "      <td>1.0</td>\n",
       "    </tr>\n",
       "    <tr>\n",
       "      <th>1256</th>\n",
       "      <td>AAPL</td>\n",
       "      <td>2023-01-04 00:00:00+00:00</td>\n",
       "      <td>126.36</td>\n",
       "      <td>128.6557</td>\n",
       "      <td>125.08</td>\n",
       "      <td>126.89</td>\n",
       "      <td>89113633</td>\n",
       "      <td>126.360000</td>\n",
       "      <td>128.655700</td>\n",
       "      <td>125.080000</td>\n",
       "      <td>126.890000</td>\n",
       "      <td>89113633</td>\n",
       "      <td>0.0</td>\n",
       "      <td>1.0</td>\n",
       "    </tr>\n",
       "    <tr>\n",
       "      <th>1257</th>\n",
       "      <td>AAPL</td>\n",
       "      <td>2023-01-05 00:00:00+00:00</td>\n",
       "      <td>125.02</td>\n",
       "      <td>127.7700</td>\n",
       "      <td>124.76</td>\n",
       "      <td>127.13</td>\n",
       "      <td>80962708</td>\n",
       "      <td>125.020000</td>\n",
       "      <td>127.770000</td>\n",
       "      <td>124.760000</td>\n",
       "      <td>127.130000</td>\n",
       "      <td>80962708</td>\n",
       "      <td>0.0</td>\n",
       "      <td>1.0</td>\n",
       "    </tr>\n",
       "    <tr>\n",
       "      <th>1258</th>\n",
       "      <td>AAPL</td>\n",
       "      <td>2023-01-06 00:00:00+00:00</td>\n",
       "      <td>129.62</td>\n",
       "      <td>130.2900</td>\n",
       "      <td>124.89</td>\n",
       "      <td>126.01</td>\n",
       "      <td>87754715</td>\n",
       "      <td>129.620000</td>\n",
       "      <td>130.290000</td>\n",
       "      <td>124.890000</td>\n",
       "      <td>126.010000</td>\n",
       "      <td>87754715</td>\n",
       "      <td>0.0</td>\n",
       "      <td>1.0</td>\n",
       "    </tr>\n",
       "  </tbody>\n",
       "</table>\n",
       "<p>1259 rows × 14 columns</p>\n",
       "</div>"
      ],
      "text/plain": [
       "     symbol                       date   close      high     low    open  \\\n",
       "0      AAPL  2018-01-08 00:00:00+00:00  174.35  175.6100  173.93  174.35   \n",
       "1      AAPL  2018-01-09 00:00:00+00:00  174.33  175.0600  173.41  174.55   \n",
       "2      AAPL  2018-01-10 00:00:00+00:00  174.29  174.3000  173.00  173.16   \n",
       "3      AAPL  2018-01-11 00:00:00+00:00  175.28  175.4900  174.49  174.59   \n",
       "4      AAPL  2018-01-12 00:00:00+00:00  177.09  177.3600  175.65  176.18   \n",
       "...     ...                        ...     ...       ...     ...     ...   \n",
       "1254   AAPL  2022-12-30 00:00:00+00:00  129.93  129.9500  127.43  128.41   \n",
       "1255   AAPL  2023-01-03 00:00:00+00:00  125.07  130.9000  124.17  130.28   \n",
       "1256   AAPL  2023-01-04 00:00:00+00:00  126.36  128.6557  125.08  126.89   \n",
       "1257   AAPL  2023-01-05 00:00:00+00:00  125.02  127.7700  124.76  127.13   \n",
       "1258   AAPL  2023-01-06 00:00:00+00:00  129.62  130.2900  124.89  126.01   \n",
       "\n",
       "         volume    adjClose     adjHigh      adjLow     adjOpen  adjVolume  \\\n",
       "0      20134092   41.393100   41.692242   41.293386   41.393100   80536368   \n",
       "1      21262614   41.388352   41.561664   41.169931   41.440583   85050456   \n",
       "2      23589129   41.378855   41.381229   41.072591   41.110578   94356516   \n",
       "3      17523256   41.613895   41.663752   41.426338   41.450079   70093024   \n",
       "4      25039531   42.043614   42.107716   41.701738   41.827567  100158124   \n",
       "...         ...         ...         ...         ...         ...        ...   \n",
       "1254   77034209  129.930000  129.950000  127.430000  128.410000   77034209   \n",
       "1255  112117471  125.070000  130.900000  124.170000  130.280000  112117471   \n",
       "1256   89113633  126.360000  128.655700  125.080000  126.890000   89113633   \n",
       "1257   80962708  125.020000  127.770000  124.760000  127.130000   80962708   \n",
       "1258   87754715  129.620000  130.290000  124.890000  126.010000   87754715   \n",
       "\n",
       "      divCash  splitFactor  \n",
       "0         0.0          1.0  \n",
       "1         0.0          1.0  \n",
       "2         0.0          1.0  \n",
       "3         0.0          1.0  \n",
       "4         0.0          1.0  \n",
       "...       ...          ...  \n",
       "1254      0.0          1.0  \n",
       "1255      0.0          1.0  \n",
       "1256      0.0          1.0  \n",
       "1257      0.0          1.0  \n",
       "1258      0.0          1.0  \n",
       "\n",
       "[1259 rows x 14 columns]"
      ]
     },
     "execution_count": 8,
     "metadata": {},
     "output_type": "execute_result"
    }
   ],
   "source": [
    "df"
   ]
  },
  {
   "cell_type": "code",
   "execution_count": 9,
   "id": "4ed69c7f",
   "metadata": {},
   "outputs": [],
   "source": [
    "df1=df.reset_index()['close']\n"
   ]
  },
  {
   "cell_type": "code",
   "execution_count": 10,
   "id": "bb3de21d",
   "metadata": {},
   "outputs": [
    {
     "data": {
      "text/plain": [
       "(1259,)"
      ]
     },
     "execution_count": 10,
     "metadata": {},
     "output_type": "execute_result"
    }
   ],
   "source": [
    "df1.shape\n"
   ]
  },
  {
   "cell_type": "code",
   "execution_count": 11,
   "id": "a6ea0f6e",
   "metadata": {},
   "outputs": [
    {
     "data": {
      "text/plain": [
       "0       174.35\n",
       "1       174.33\n",
       "2       174.29\n",
       "3       175.28\n",
       "4       177.09\n",
       "         ...  \n",
       "1254    129.93\n",
       "1255    125.07\n",
       "1256    126.36\n",
       "1257    125.02\n",
       "1258    129.62\n",
       "Name: close, Length: 1259, dtype: float64"
      ]
     },
     "execution_count": 11,
     "metadata": {},
     "output_type": "execute_result"
    }
   ],
   "source": [
    "df1"
   ]
  },
  {
   "cell_type": "code",
   "execution_count": 12,
   "id": "5b7ff9cf",
   "metadata": {},
   "outputs": [],
   "source": [
    "import matplotlib.pyplot as plt\n"
   ]
  },
  {
   "cell_type": "code",
   "execution_count": 13,
   "id": "9f357e67",
   "metadata": {},
   "outputs": [
    {
     "data": {
      "text/plain": [
       "Text(0, 0.5, 'Close_Price_USD')"
      ]
     },
     "execution_count": 13,
     "metadata": {},
     "output_type": "execute_result"
    },
    {
     "data": {
      "image/png": "[encoded data removed]",
      "text/plain": [
       "<Figure size 432x288 with 1 Axes>"
      ]
     },
     "metadata": {
      "needs_background": "light"
     },
     "output_type": "display_data"
    }
   ],
   "source": [
    "plt.plot(df1)\n",
    "plt.xlabel(\"Apple_StockPrice_day(02-10-2017 to 7-1-2023)\")\n",
    "plt.ylabel(\"Close_Price_USD\")"
   ]
  },
  {
   "cell_type": "code",
   "execution_count": 14,
   "id": "56fa71ab",
   "metadata": {},
   "outputs": [],
   "source": [
    "import numpy as np\n"
   ]
  },
  {
   "cell_type": "code",
   "execution_count": 15,
   "id": "1dae6d03",
   "metadata": {},
   "outputs": [],
   "source": [
    "from sklearn.preprocessing import MinMaxScaler\n",
    "scaler=MinMaxScaler(feature_range=(0,1))\n",
    "df1=scaler.fit_transform(np.array(df1).reshape(-1,1))"
   ]
  },
  {
   "cell_type": "code",
   "execution_count": 16,
   "id": "1b321977",
   "metadata": {},
   "outputs": [
    {
     "data": {
      "text/plain": [
       "array([[0.16909205],\n",
       "       [0.16904195],\n",
       "       [0.16894177],\n",
       "       ...,\n",
       "       [0.04889167],\n",
       "       [0.04553538],\n",
       "       [0.05705698]])"
      ]
     },
     "execution_count": 16,
     "metadata": {},
     "output_type": "execute_result"
    }
   ],
   "source": [
    "df1"
   ]
  },
  {
   "cell_type": "code",
   "execution_count": 17,
   "id": "c04ec545",
   "metadata": {},
   "outputs": [],
   "source": [
    "\n",
    "training_size=int(len(df1)*0.70)\n",
    "test_size=len(df1)-training_size\n",
    "train_data,test_data=df1[0:training_size,:],df1[training_size:len(df1),:1]"
   ]
  },
  {
   "cell_type": "code",
   "execution_count": 18,
   "id": "77a57b78",
   "metadata": {},
   "outputs": [],
   "source": [
    "import numpy\n",
    "def create_dataset(dataset,time_step=1):\n",
    "    dataX,dataY=[],[]\n",
    "    for i in range(len(dataset)-time_step-1):\n",
    "        a=dataset[i:(i+time_step),0]\n",
    "        dataX.append(a)\n",
    "        dataY.append(dataset[i+time_step,0])\n",
    "    return numpy.array(dataX),numpy.array(dataY)"
   ]
  },
  {
   "cell_type": "code",
   "execution_count": 19,
   "id": "373ca1b6",
   "metadata": {},
   "outputs": [],
   "source": [
    "time_step=100\n",
    "X_train,y_train=create_dataset(train_data,time_step)\n",
    "X_test,y_test=create_dataset(test_data,time_step)"
   ]
  },
  {
   "cell_type": "code",
   "execution_count": 20,
   "id": "3b8ed272",
   "metadata": {},
   "outputs": [
    {
     "name": "stdout",
     "output_type": "stream",
     "text": [
      "(780, 100)\n",
      "(780,)\n"
     ]
    },
    {
     "data": {
      "text/plain": [
       "(None, None)"
      ]
     },
     "execution_count": 20,
     "metadata": {},
     "output_type": "execute_result"
    }
   ],
   "source": [
    "print(X_train.shape),print(y_train.shape)\n"
   ]
  },
  {
   "cell_type": "code",
   "execution_count": 21,
   "id": "952e09a9",
   "metadata": {},
   "outputs": [
    {
     "name": "stdout",
     "output_type": "stream",
     "text": [
      "(277, 100)\n",
      "(277,)\n"
     ]
    },
    {
     "data": {
      "text/plain": [
       "(None, None)"
      ]
     },
     "execution_count": 21,
     "metadata": {},
     "output_type": "execute_result"
    }
   ],
   "source": [
    "print(X_test.shape),print(y_test.shape)\n"
   ]
  },
  {
   "cell_type": "code",
   "execution_count": 22,
   "id": "ce385984",
   "metadata": {},
   "outputs": [],
   "source": [
    "X_train=X_train.reshape(X_train.shape[0],X_train.shape[1],1)\n",
    "X_test=X_test.reshape(X_test.shape[0],X_test.shape[1],1)"
   ]
  },
  {
   "cell_type": "code",
   "execution_count": 23,
   "id": "50b54ef2",
   "metadata": {},
   "outputs": [],
   "source": [
    "from tensorflow.keras.models import Sequential\n",
    "from tensorflow.keras.layers import Dense\n",
    "from tensorflow.keras.layers import LSTM"
   ]
  },
  {
   "cell_type": "code",
   "execution_count": 24,
   "id": "621eb477",
   "metadata": {},
   "outputs": [],
   "source": [
    "model=Sequential()\n",
    "model.add(LSTM(50,return_sequences=True,input_shape=(100,1)))\n",
    "model.add(LSTM(50,return_sequences=True))\n",
    "model.add(LSTM(50))\n",
    "model.add(Dense(1))\n",
    "model.compile(loss='mean_squared_error',optimizer='adam')"
   ]
  },
  {
   "cell_type": "code",
   "execution_count": 25,
   "id": "9e0dbc78",
   "metadata": {},
   "outputs": [
    {
     "name": "stdout",
     "output_type": "stream",
     "text": [
      "Model: \"sequential\"\n",
      "_________________________________________________________________\n",
      " Layer (type)                Output Shape              Param #   \n",
      "=================================================================\n",
      " lstm (LSTM)                 (None, 100, 50)           10400     \n",
      "                                                                 \n",
      " lstm_1 (LSTM)               (None, 100, 50)           20200     \n",
      "                                                                 \n",
      " lstm_2 (LSTM)               (None, 50)                20200     \n",
      "                                                                 \n",
      " dense (Dense)               (None, 1)                 51        \n",
      "                                                                 \n",
      "=================================================================\n",
      "Total params: 50,851\n",
      "Trainable params: 50,851\n",
      "Non-trainable params: 0\n",
      "_________________________________________________________________\n"
     ]
    }
   ],
   "source": [
    "model.summary()\n"
   ]
  },
  {
   "cell_type": "code",
   "execution_count": 26,
   "id": "0f30ea7f",
   "metadata": {},
   "outputs": [
    {
     "name": "stdout",
     "output_type": "stream",
     "text": [
      "Epoch 1/100\n",
      "13/13 [==============================] - 13s 463ms/step - loss: 0.0382 - val_loss: 0.0021\n",
      "Epoch 2/100\n",
      "13/13 [==============================] - 3s 266ms/step - loss: 0.0119 - val_loss: 6.2969e-04\n",
      "Epoch 3/100\n",
      "13/13 [==============================] - 4s 276ms/step - loss: 0.0095 - val_loss: 6.8433e-04\n",
      "Epoch 4/100\n",
      "13/13 [==============================] - 3s 253ms/step - loss: 0.0080 - val_loss: 8.8269e-04\n",
      "Epoch 5/100\n",
      "13/13 [==============================] - 3s 269ms/step - loss: 0.0070 - val_loss: 7.4100e-04\n",
      "Epoch 6/100\n",
      "13/13 [==============================] - 4s 292ms/step - loss: 0.0079 - val_loss: 3.5400e-04\n",
      "Epoch 7/100\n",
      "13/13 [==============================] - 4s 295ms/step - loss: 0.0059 - val_loss: 8.0996e-04\n",
      "Epoch 8/100\n",
      "13/13 [==============================] - 3s 260ms/step - loss: 0.0064 - val_loss: 4.3601e-04\n",
      "Epoch 9/100\n",
      "13/13 [==============================] - 4s 300ms/step - loss: 0.0058 - val_loss: 4.1302e-04\n",
      "Epoch 10/100\n",
      "13/13 [==============================] - 4s 269ms/step - loss: 0.0045 - val_loss: 6.9392e-04\n",
      "Epoch 11/100\n",
      "13/13 [==============================] - 4s 296ms/step - loss: 0.0043 - val_loss: 7.3327e-04\n",
      "Epoch 12/100\n",
      "13/13 [==============================] - 4s 312ms/step - loss: 0.0043 - val_loss: 9.3204e-04\n",
      "Epoch 13/100\n",
      "13/13 [==============================] - 4s 331ms/step - loss: 0.0035 - val_loss: 3.4059e-04\n",
      "Epoch 14/100\n",
      "13/13 [==============================] - 4s 299ms/step - loss: 0.0027 - val_loss: 5.1646e-04\n",
      "Epoch 15/100\n",
      "13/13 [==============================] - 4s 293ms/step - loss: 0.0029 - val_loss: 4.0818e-04\n",
      "Epoch 16/100\n",
      "13/13 [==============================] - 4s 353ms/step - loss: 0.0029 - val_loss: 8.1006e-04\n",
      "Epoch 17/100\n",
      "13/13 [==============================] - 4s 296ms/step - loss: 0.0031 - val_loss: 3.2657e-04\n",
      "Epoch 18/100\n",
      "13/13 [==============================] - 4s 273ms/step - loss: 0.0026 - val_loss: 3.1378e-04\n",
      "Epoch 19/100\n",
      "13/13 [==============================] - 4s 301ms/step - loss: 0.0023 - val_loss: 6.0999e-04\n",
      "Epoch 20/100\n",
      "13/13 [==============================] - 4s 290ms/step - loss: 0.0032 - val_loss: 5.3905e-04\n",
      "Epoch 21/100\n",
      "13/13 [==============================] - 4s 285ms/step - loss: 0.0031 - val_loss: 0.0014\n",
      "Epoch 22/100\n",
      "13/13 [==============================] - 3s 248ms/step - loss: 0.0035 - val_loss: 0.0012\n",
      "Epoch 23/100\n",
      "13/13 [==============================] - 4s 275ms/step - loss: 0.0023 - val_loss: 3.8256e-04\n",
      "Epoch 24/100\n",
      "13/13 [==============================] - 4s 277ms/step - loss: 0.0028 - val_loss: 2.9890e-04\n",
      "Epoch 25/100\n",
      "13/13 [==============================] - 3s 247ms/step - loss: 0.0020 - val_loss: 2.9841e-04\n",
      "Epoch 26/100\n",
      "13/13 [==============================] - 4s 273ms/step - loss: 0.0020 - val_loss: 3.0158e-04\n",
      "Epoch 27/100\n",
      "13/13 [==============================] - 3s 262ms/step - loss: 0.0019 - val_loss: 3.4530e-04\n",
      "Epoch 28/100\n",
      "13/13 [==============================] - 3s 272ms/step - loss: 0.0016 - val_loss: 3.0458e-04\n",
      "Epoch 29/100\n",
      "13/13 [==============================] - 4s 281ms/step - loss: 0.0016 - val_loss: 3.7564e-04\n",
      "Epoch 30/100\n",
      "13/13 [==============================] - 3s 264ms/step - loss: 0.0031 - val_loss: 4.8922e-04\n",
      "Epoch 31/100\n",
      "13/13 [==============================] - 4s 312ms/step - loss: 0.0039 - val_loss: 3.3103e-04\n",
      "Epoch 32/100\n",
      "13/13 [==============================] - 4s 304ms/step - loss: 0.0030 - val_loss: 3.8530e-04\n",
      "Epoch 33/100\n",
      "13/13 [==============================] - 3s 260ms/step - loss: 0.0025 - val_loss: 3.2009e-04\n",
      "Epoch 34/100\n",
      "13/13 [==============================] - 4s 277ms/step - loss: 0.0021 - val_loss: 2.8746e-04\n",
      "Epoch 35/100\n",
      "13/13 [==============================] - 3s 259ms/step - loss: 0.0047 - val_loss: 7.7701e-04\n",
      "Epoch 36/100\n",
      "13/13 [==============================] - 3s 269ms/step - loss: 0.0046 - val_loss: 2.8760e-04\n",
      "Epoch 37/100\n",
      "13/13 [==============================] - 4s 287ms/step - loss: 0.0028 - val_loss: 3.1430e-04\n",
      "Epoch 38/100\n",
      "13/13 [==============================] - 4s 287ms/step - loss: 0.0021 - val_loss: 2.8771e-04\n",
      "Epoch 39/100\n",
      "13/13 [==============================] - 4s 351ms/step - loss: 0.0019 - val_loss: 3.2814e-04\n",
      "Epoch 40/100\n",
      "13/13 [==============================] - 3s 268ms/step - loss: 0.0019 - val_loss: 2.9354e-04\n",
      "Epoch 41/100\n",
      "13/13 [==============================] - 4s 291ms/step - loss: 0.0020 - val_loss: 2.7821e-04\n",
      "Epoch 42/100\n",
      "13/13 [==============================] - 4s 290ms/step - loss: 0.0016 - val_loss: 3.0979e-04\n",
      "Epoch 43/100\n",
      "13/13 [==============================] - 4s 275ms/step - loss: 0.0016 - val_loss: 3.0328e-04\n",
      "Epoch 44/100\n",
      "13/13 [==============================] - 3s 262ms/step - loss: 0.0015 - val_loss: 2.8873e-04\n",
      "Epoch 45/100\n",
      "13/13 [==============================] - 3s 255ms/step - loss: 0.0021 - val_loss: 3.5986e-04\n",
      "Epoch 46/100\n",
      "13/13 [==============================] - 4s 296ms/step - loss: 0.0019 - val_loss: 2.9367e-04\n",
      "Epoch 47/100\n",
      "13/13 [==============================] - 4s 293ms/step - loss: 0.0019 - val_loss: 2.9077e-04\n",
      "Epoch 48/100\n",
      "13/13 [==============================] - 4s 293ms/step - loss: 0.0028 - val_loss: 4.7770e-04\n",
      "Epoch 49/100\n",
      "13/13 [==============================] - 4s 280ms/step - loss: 0.0019 - val_loss: 4.1302e-04\n",
      "Epoch 50/100\n",
      "13/13 [==============================] - 3s 263ms/step - loss: 0.0022 - val_loss: 3.0092e-04\n",
      "Epoch 51/100\n",
      "13/13 [==============================] - 5s 352ms/step - loss: 0.0020 - val_loss: 3.7638e-04\n",
      "Epoch 52/100\n",
      "13/13 [==============================] - 4s 275ms/step - loss: 0.0016 - val_loss: 3.1212e-04\n",
      "Epoch 53/100\n",
      "13/13 [==============================] - 3s 254ms/step - loss: 0.0018 - val_loss: 3.6156e-04\n",
      "Epoch 54/100\n",
      "13/13 [==============================] - 4s 277ms/step - loss: 0.0018 - val_loss: 6.6772e-04\n",
      "Epoch 55/100\n",
      "13/13 [==============================] - 4s 351ms/step - loss: 0.0017 - val_loss: 2.8917e-04\n",
      "Epoch 56/100\n",
      "13/13 [==============================] - 4s 266ms/step - loss: 0.0014 - val_loss: 3.9564e-04\n",
      "Epoch 57/100\n",
      "13/13 [==============================] - 3s 247ms/step - loss: 0.0014 - val_loss: 2.9574e-04\n",
      "Epoch 58/100\n",
      "13/13 [==============================] - 4s 337ms/step - loss: 0.0014 - val_loss: 2.9281e-04\n",
      "Epoch 59/100\n",
      "13/13 [==============================] - 4s 280ms/step - loss: 0.0014 - val_loss: 3.5412e-04\n",
      "Epoch 60/100\n",
      "13/13 [==============================] - 4s 290ms/step - loss: 0.0014 - val_loss: 3.5158e-04\n",
      "Epoch 61/100\n",
      "13/13 [==============================] - 4s 274ms/step - loss: 0.0016 - val_loss: 3.1995e-04\n",
      "Epoch 62/100\n",
      "13/13 [==============================] - 4s 277ms/step - loss: 0.0014 - val_loss: 3.0266e-04\n",
      "Epoch 63/100\n",
      "13/13 [==============================] - 4s 307ms/step - loss: 0.0014 - val_loss: 3.0146e-04\n",
      "Epoch 64/100\n",
      "13/13 [==============================] - 4s 292ms/step - loss: 0.0048 - val_loss: 3.5182e-04\n",
      "Epoch 65/100\n",
      "13/13 [==============================] - 5s 373ms/step - loss: 0.0023 - val_loss: 4.3385e-04\n",
      "Epoch 66/100\n",
      "13/13 [==============================] - 5s 368ms/step - loss: 0.0030 - val_loss: 8.6798e-04\n",
      "Epoch 67/100\n",
      "13/13 [==============================] - 5s 409ms/step - loss: 0.0019 - val_loss: 3.3717e-04\n",
      "Epoch 68/100\n",
      "13/13 [==============================] - 4s 281ms/step - loss: 0.0016 - val_loss: 2.8491e-04\n",
      "Epoch 69/100\n",
      "13/13 [==============================] - 3s 242ms/step - loss: 0.0022 - val_loss: 3.0269e-04\n",
      "Epoch 70/100\n",
      "13/13 [==============================] - 3s 248ms/step - loss: 0.0014 - val_loss: 2.8424e-04\n",
      "Epoch 71/100\n",
      "13/13 [==============================] - 3s 263ms/step - loss: 0.0023 - val_loss: 3.0893e-04\n",
      "Epoch 72/100\n",
      "13/13 [==============================] - 4s 270ms/step - loss: 0.0018 - val_loss: 2.8176e-04\n",
      "Epoch 73/100\n",
      "13/13 [==============================] - 4s 288ms/step - loss: 0.0015 - val_loss: 3.3549e-04\n",
      "Epoch 74/100\n",
      "13/13 [==============================] - 4s 303ms/step - loss: 0.0015 - val_loss: 2.9815e-04\n",
      "Epoch 75/100\n",
      "13/13 [==============================] - 4s 297ms/step - loss: 0.0015 - val_loss: 4.0270e-04\n",
      "Epoch 76/100\n",
      "13/13 [==============================] - 3s 256ms/step - loss: 0.0015 - val_loss: 2.8396e-04\n",
      "Epoch 77/100\n",
      "13/13 [==============================] - 4s 276ms/step - loss: 0.0015 - val_loss: 2.7990e-04\n",
      "Epoch 78/100\n"
     ]
    },
    {
     "name": "stdout",
     "output_type": "stream",
     "text": [
      "13/13 [==============================] - 3s 238ms/step - loss: 0.0017 - val_loss: 3.4608e-04\n",
      "Epoch 79/100\n",
      "13/13 [==============================] - 3s 241ms/step - loss: 0.0016 - val_loss: 3.5761e-04\n",
      "Epoch 80/100\n",
      "13/13 [==============================] - 3s 232ms/step - loss: 0.0015 - val_loss: 3.2459e-04\n",
      "Epoch 81/100\n",
      "13/13 [==============================] - 3s 233ms/step - loss: 0.0014 - val_loss: 2.7959e-04\n",
      "Epoch 82/100\n",
      "13/13 [==============================] - 3s 234ms/step - loss: 0.0013 - val_loss: 2.8104e-04\n",
      "Epoch 83/100\n",
      "13/13 [==============================] - 3s 246ms/step - loss: 0.0013 - val_loss: 3.2028e-04\n",
      "Epoch 84/100\n",
      "13/13 [==============================] - 3s 239ms/step - loss: 0.0013 - val_loss: 4.3713e-04\n",
      "Epoch 85/100\n",
      "13/13 [==============================] - 3s 245ms/step - loss: 0.0017 - val_loss: 3.1851e-04\n",
      "Epoch 86/100\n",
      "13/13 [==============================] - 3s 250ms/step - loss: 0.0012 - val_loss: 2.7365e-04\n",
      "Epoch 87/100\n",
      "13/13 [==============================] - 3s 248ms/step - loss: 0.0013 - val_loss: 3.1682e-04\n",
      "Epoch 88/100\n",
      "13/13 [==============================] - 3s 252ms/step - loss: 0.0015 - val_loss: 3.0924e-04\n",
      "Epoch 89/100\n",
      "13/13 [==============================] - 3s 252ms/step - loss: 0.0017 - val_loss: 5.2861e-04\n",
      "Epoch 90/100\n",
      "13/13 [==============================] - 3s 258ms/step - loss: 0.0015 - val_loss: 2.7379e-04\n",
      "Epoch 91/100\n",
      "13/13 [==============================] - 3s 252ms/step - loss: 0.0012 - val_loss: 2.7573e-04\n",
      "Epoch 92/100\n",
      "13/13 [==============================] - 3s 270ms/step - loss: 0.0020 - val_loss: 2.8859e-04\n",
      "Epoch 93/100\n",
      "13/13 [==============================] - 3s 265ms/step - loss: 0.0031 - val_loss: 5.3273e-04\n",
      "Epoch 94/100\n",
      "13/13 [==============================] - 4s 306ms/step - loss: 0.0017 - val_loss: 2.7855e-04\n",
      "Epoch 95/100\n",
      "13/13 [==============================] - 3s 261ms/step - loss: 0.0026 - val_loss: 3.2419e-04\n",
      "Epoch 96/100\n",
      "13/13 [==============================] - 4s 297ms/step - loss: 0.0019 - val_loss: 2.9782e-04\n",
      "Epoch 97/100\n",
      "13/13 [==============================] - 3s 265ms/step - loss: 0.0034 - val_loss: 5.1077e-04\n",
      "Epoch 98/100\n",
      "13/13 [==============================] - 3s 262ms/step - loss: 0.0027 - val_loss: 3.9989e-04\n",
      "Epoch 99/100\n",
      "13/13 [==============================] - 3s 267ms/step - loss: 0.0019 - val_loss: 2.7533e-04\n",
      "Epoch 100/100\n",
      "13/13 [==============================] - 4s 277ms/step - loss: 0.0016 - val_loss: 3.4077e-04\n"
     ]
    },
    {
     "data": {
      "text/plain": [
       "<keras.callbacks.History at 0x1b74a7f9060>"
      ]
     },
     "execution_count": 26,
     "metadata": {},
     "output_type": "execute_result"
    }
   ],
   "source": [
    "model.fit(X_train,y_train,validation_data=(X_test,y_test),epochs=100,batch_size=64,verbose=1)\n"
   ]
  },
  {
   "cell_type": "code",
   "execution_count": 27,
   "id": "759cda0d",
   "metadata": {},
   "outputs": [
    {
     "name": "stdout",
     "output_type": "stream",
     "text": [
      "25/25 [==============================] - 2s 28ms/step\n",
      "9/9 [==============================] - 0s 28ms/step\n"
     ]
    }
   ],
   "source": [
    "train_predict=model.predict(X_train)\n",
    "test_predict=model.predict(X_test)"
   ]
  },
  {
   "cell_type": "code",
   "execution_count": 28,
   "id": "865b30cf",
   "metadata": {},
   "outputs": [],
   "source": [
    "train_predict=scaler.inverse_transform(train_predict)\n",
    "test_predict=scaler.inverse_transform(test_predict)"
   ]
  },
  {
   "cell_type": "code",
   "execution_count": 29,
   "id": "9cfcc301",
   "metadata": {},
   "outputs": [
    {
     "data": {
      "text/plain": [
       "222.85345383514917"
      ]
     },
     "execution_count": 29,
     "metadata": {},
     "output_type": "execute_result"
    }
   ],
   "source": [
    "import math\n",
    "from sklearn.metrics import mean_squared_error\n",
    "math.sqrt(mean_squared_error(y_train,train_predict))"
   ]
  },
  {
   "cell_type": "code",
   "execution_count": 30,
   "id": "48655259",
   "metadata": {},
   "outputs": [
    {
     "data": {
      "text/plain": [
       "156.88000692046617"
      ]
     },
     "execution_count": 30,
     "metadata": {},
     "output_type": "execute_result"
    }
   ],
   "source": [
    "math.sqrt(mean_squared_error(y_test,test_predict))\n"
   ]
  },
  {
   "cell_type": "code",
   "execution_count": 31,
   "id": "098783cf",
   "metadata": {},
   "outputs": [
    {
     "data": {
      "image/png": "[encoded data removed]",
      "text/plain": [
       "<Figure size 432x288 with 1 Axes>"
      ]
     },
     "metadata": {
      "needs_background": "light"
     },
     "output_type": "display_data"
    }
   ],
   "source": [
    "look_back=100\n",
    "trainPredictPlot=numpy.empty_like(df1)\n",
    "trainPredictPlot[:,:]=np.nan\n",
    "trainPredictPlot[look_back:len(train_predict)+look_back,:]=train_predict\n",
    "testPredictPlot=numpy.empty_like(df1)\n",
    "testPredictPlot[:,:]=numpy.nan\n",
    "testPredictPlot[len(train_predict)+(look_back*2)+1:len(df1)-1,:]=test_predict\n",
    "plt.plot(scaler.inverse_transform(df1))\n",
    "plt.xlabel(\"Apple_StockPrice_day(02-10-2017 to 7-1-2023)\")\n",
    "plt.ylabel(\"Close_Price_USD\")\n",
    "plt.plot(trainPredictPlot)\n",
    "plt.plot(testPredictPlot)\n",
    "plt.show()"
   ]
  },
  {
   "cell_type": "code",
   "execution_count": 32,
   "id": "2a283542",
   "metadata": {},
   "outputs": [
    {
     "data": {
      "text/plain": [
       "(1, 100)"
      ]
     },
     "execution_count": 32,
     "metadata": {},
     "output_type": "execute_result"
    }
   ],
   "source": [
    "x_input=test_data[278:].reshape(1,-1)\n",
    "x_input.shape"
   ]
  },
  {
   "cell_type": "code",
   "execution_count": 33,
   "id": "affd0d8d",
   "metadata": {},
   "outputs": [],
   "source": [
    "temp_input=list(x_input)\n",
    "temp_input=temp_input[0].tolist()"
   ]
  },
  {
   "cell_type": "code",
   "execution_count": 34,
   "id": "7bb59245",
   "metadata": {},
   "outputs": [
    {
     "name": "stdout",
     "output_type": "stream",
     "text": [
      "[0.05869583]\n",
      "101\n",
      "1day input [0.16578585 0.16959299 0.16859111 0.16200376 0.15211021 0.15125861\n",
      " 0.15201002 0.15827176 0.14221666 0.13660614 0.13041954 0.1261866\n",
      " 0.12804008 0.12265498 0.11944897 0.12303068 0.11927364 0.1265623\n",
      " 0.14174076 0.11772073 0.12140263 0.11403882 0.10985598 0.11932373\n",
      " 0.1253851  0.11742016 0.11496556 0.10917971 0.11003131 0.11251096\n",
      " 0.10770194 0.08926738 0.07854728 0.08919224 0.09833438 0.09908579\n",
      " 0.09665623 0.08328115 0.0841077  0.08050094 0.07889793 0.09054477\n",
      " 0.07899812 0.08909205 0.09244834 0.09272386 0.09154665 0.10126487\n",
      " 0.10672511 0.11396368 0.10647464 0.09507827 0.12247965 0.11646838\n",
      " 0.10973075 0.09565435 0.08025047 0.07899812 0.08035066 0.08180338\n",
      " 0.07020664 0.10026299 0.10735128 0.10379461 0.10820288 0.10507201\n",
      " 0.10990607 0.11133375 0.10311835 0.10855354 0.11078272 0.10336882\n",
      " 0.09362555 0.08598622 0.10316844 0.10386976 0.10261741 0.09966187\n",
      " 0.0903444  0.08541014 0.08969317 0.08846587 0.09430182 0.09675642\n",
      " 0.0910958  0.07428929 0.06930495 0.0639449  0.06376957 0.07165936\n",
      " 0.06359424 0.0626675  0.05808391 0.04809017 0.05703193 0.05783344\n",
      " 0.04566061 0.04889167 0.04553538 0.05869583]\n",
      "1 day output [[0.05755201]]\n",
      "2day input [0.16959299 0.16859111 0.16200376 0.15211021 0.15125861 0.15201002\n",
      " 0.15827176 0.14221666 0.13660614 0.13041954 0.1261866  0.12804008\n",
      " 0.12265498 0.11944897 0.12303068 0.11927364 0.1265623  0.14174076\n",
      " 0.11772073 0.12140263 0.11403882 0.10985598 0.11932373 0.1253851\n",
      " 0.11742016 0.11496556 0.10917971 0.11003131 0.11251096 0.10770194\n",
      " 0.08926738 0.07854728 0.08919224 0.09833438 0.09908579 0.09665623\n",
      " 0.08328115 0.0841077  0.08050094 0.07889793 0.09054477 0.07899812\n",
      " 0.08909205 0.09244834 0.09272386 0.09154665 0.10126487 0.10672511\n",
      " 0.11396368 0.10647464 0.09507827 0.12247965 0.11646838 0.10973075\n",
      " 0.09565435 0.08025047 0.07899812 0.08035066 0.08180338 0.07020664\n",
      " 0.10026299 0.10735128 0.10379461 0.10820288 0.10507201 0.10990607\n",
      " 0.11133375 0.10311835 0.10855354 0.11078272 0.10336882 0.09362555\n",
      " 0.08598622 0.10316844 0.10386976 0.10261741 0.09966187 0.0903444\n",
      " 0.08541014 0.08969317 0.08846587 0.09430182 0.09675642 0.0910958\n",
      " 0.07428929 0.06930495 0.0639449  0.06376957 0.07165936 0.06359424\n",
      " 0.0626675  0.05808391 0.04809017 0.05703193 0.05783344 0.04566061\n",
      " 0.04889167 0.04553538 0.05869583 0.05755201]\n",
      "2 day output [[0.05722924]]\n",
      "3day input [0.16859111 0.16200376 0.15211021 0.15125861 0.15201002 0.15827176\n",
      " 0.14221666 0.13660614 0.13041954 0.1261866  0.12804008 0.12265498\n",
      " 0.11944897 0.12303068 0.11927364 0.1265623  0.14174076 0.11772073\n",
      " 0.12140263 0.11403882 0.10985598 0.11932373 0.1253851  0.11742016\n",
      " 0.11496556 0.10917971 0.11003131 0.11251096 0.10770194 0.08926738\n",
      " 0.07854728 0.08919224 0.09833438 0.09908579 0.09665623 0.08328115\n",
      " 0.0841077  0.08050094 0.07889793 0.09054477 0.07899812 0.08909205\n",
      " 0.09244834 0.09272386 0.09154665 0.10126487 0.10672511 0.11396368\n",
      " 0.10647464 0.09507827 0.12247965 0.11646838 0.10973075 0.09565435\n",
      " 0.08025047 0.07899812 0.08035066 0.08180338 0.07020664 0.10026299\n",
      " 0.10735128 0.10379461 0.10820288 0.10507201 0.10990607 0.11133375\n",
      " 0.10311835 0.10855354 0.11078272 0.10336882 0.09362555 0.08598622\n",
      " 0.10316844 0.10386976 0.10261741 0.09966187 0.0903444  0.08541014\n",
      " 0.08969317 0.08846587 0.09430182 0.09675642 0.0910958  0.07428929\n",
      " 0.06930495 0.0639449  0.06376957 0.07165936 0.06359424 0.0626675\n",
      " 0.05808391 0.04809017 0.05703193 0.05783344 0.04566061 0.04889167\n",
      " 0.04553538 0.05869583 0.05755201 0.05722924]\n",
      "3 day output [[0.057436]]\n",
      "4day input [0.16200376 0.15211021 0.15125861 0.15201002 0.15827176 0.14221666\n",
      " 0.13660614 0.13041954 0.1261866  0.12804008 0.12265498 0.11944897\n",
      " 0.12303068 0.11927364 0.1265623  0.14174076 0.11772073 0.12140263\n",
      " 0.11403882 0.10985598 0.11932373 0.1253851  0.11742016 0.11496556\n",
      " 0.10917971 0.11003131 0.11251096 0.10770194 0.08926738 0.07854728\n",
      " 0.08919224 0.09833438 0.09908579 0.09665623 0.08328115 0.0841077\n",
      " 0.08050094 0.07889793 0.09054477 0.07899812 0.08909205 0.09244834\n",
      " 0.09272386 0.09154665 0.10126487 0.10672511 0.11396368 0.10647464\n",
      " 0.09507827 0.12247965 0.11646838 0.10973075 0.09565435 0.08025047\n",
      " 0.07899812 0.08035066 0.08180338 0.07020664 0.10026299 0.10735128\n",
      " 0.10379461 0.10820288 0.10507201 0.10990607 0.11133375 0.10311835\n",
      " 0.10855354 0.11078272 0.10336882 0.09362555 0.08598622 0.10316844\n",
      " 0.10386976 0.10261741 0.09966187 0.0903444  0.08541014 0.08969317\n",
      " 0.08846587 0.09430182 0.09675642 0.0910958  0.07428929 0.06930495\n",
      " 0.0639449  0.06376957 0.07165936 0.06359424 0.0626675  0.05808391\n",
      " 0.04809017 0.05703193 0.05783344 0.04566061 0.04889167 0.04553538\n",
      " 0.05869583 0.05755201 0.05722924 0.057436  ]\n",
      "4 day output [[0.05791702]]\n",
      "5day input [0.15211021 0.15125861 0.15201002 0.15827176 0.14221666 0.13660614\n",
      " 0.13041954 0.1261866  0.12804008 0.12265498 0.11944897 0.12303068\n",
      " 0.11927364 0.1265623  0.14174076 0.11772073 0.12140263 0.11403882\n",
      " 0.10985598 0.11932373 0.1253851  0.11742016 0.11496556 0.10917971\n",
      " 0.11003131 0.11251096 0.10770194 0.08926738 0.07854728 0.08919224\n",
      " 0.09833438 0.09908579 0.09665623 0.08328115 0.0841077  0.08050094\n",
      " 0.07889793 0.09054477 0.07899812 0.08909205 0.09244834 0.09272386\n",
      " 0.09154665 0.10126487 0.10672511 0.11396368 0.10647464 0.09507827\n",
      " 0.12247965 0.11646838 0.10973075 0.09565435 0.08025047 0.07899812\n",
      " 0.08035066 0.08180338 0.07020664 0.10026299 0.10735128 0.10379461\n",
      " 0.10820288 0.10507201 0.10990607 0.11133375 0.10311835 0.10855354\n",
      " 0.11078272 0.10336882 0.09362555 0.08598622 0.10316844 0.10386976\n",
      " 0.10261741 0.09966187 0.0903444  0.08541014 0.08969317 0.08846587\n",
      " 0.09430182 0.09675642 0.0910958  0.07428929 0.06930495 0.0639449\n",
      " 0.06376957 0.07165936 0.06359424 0.0626675  0.05808391 0.04809017\n",
      " 0.05703193 0.05783344 0.04566061 0.04889167 0.04553538 0.05869583\n",
      " 0.05755201 0.05722924 0.057436   0.05791702]\n",
      "5 day output [[0.05851271]]\n",
      "6day input [0.15125861 0.15201002 0.15827176 0.14221666 0.13660614 0.13041954\n",
      " 0.1261866  0.12804008 0.12265498 0.11944897 0.12303068 0.11927364\n",
      " 0.1265623  0.14174076 0.11772073 0.12140263 0.11403882 0.10985598\n",
      " 0.11932373 0.1253851  0.11742016 0.11496556 0.10917971 0.11003131\n",
      " 0.11251096 0.10770194 0.08926738 0.07854728 0.08919224 0.09833438\n",
      " 0.09908579 0.09665623 0.08328115 0.0841077  0.08050094 0.07889793\n",
      " 0.09054477 0.07899812 0.08909205 0.09244834 0.09272386 0.09154665\n",
      " 0.10126487 0.10672511 0.11396368 0.10647464 0.09507827 0.12247965\n",
      " 0.11646838 0.10973075 0.09565435 0.08025047 0.07899812 0.08035066\n",
      " 0.08180338 0.07020664 0.10026299 0.10735128 0.10379461 0.10820288\n",
      " 0.10507201 0.10990607 0.11133375 0.10311835 0.10855354 0.11078272\n",
      " 0.10336882 0.09362555 0.08598622 0.10316844 0.10386976 0.10261741\n",
      " 0.09966187 0.0903444  0.08541014 0.08969317 0.08846587 0.09430182\n",
      " 0.09675642 0.0910958  0.07428929 0.06930495 0.0639449  0.06376957\n",
      " 0.07165936 0.06359424 0.0626675  0.05808391 0.04809017 0.05703193\n",
      " 0.05783344 0.04566061 0.04889167 0.04553538 0.05869583 0.05755201\n",
      " 0.05722924 0.057436   0.05791702 0.05851271]\n",
      "6 day output [[0.05914291]]\n",
      "7day input [0.15201002 0.15827176 0.14221666 0.13660614 0.13041954 0.1261866\n",
      " 0.12804008 0.12265498 0.11944897 0.12303068 0.11927364 0.1265623\n",
      " 0.14174076 0.11772073 0.12140263 0.11403882 0.10985598 0.11932373\n",
      " 0.1253851  0.11742016 0.11496556 0.10917971 0.11003131 0.11251096\n",
      " 0.10770194 0.08926738 0.07854728 0.08919224 0.09833438 0.09908579\n",
      " 0.09665623 0.08328115 0.0841077  0.08050094 0.07889793 0.09054477\n",
      " 0.07899812 0.08909205 0.09244834 0.09272386 0.09154665 0.10126487\n",
      " 0.10672511 0.11396368 0.10647464 0.09507827 0.12247965 0.11646838\n",
      " 0.10973075 0.09565435 0.08025047 0.07899812 0.08035066 0.08180338\n",
      " 0.07020664 0.10026299 0.10735128 0.10379461 0.10820288 0.10507201\n",
      " 0.10990607 0.11133375 0.10311835 0.10855354 0.11078272 0.10336882\n",
      " 0.09362555 0.08598622 0.10316844 0.10386976 0.10261741 0.09966187\n",
      " 0.0903444  0.08541014 0.08969317 0.08846587 0.09430182 0.09675642\n",
      " 0.0910958  0.07428929 0.06930495 0.0639449  0.06376957 0.07165936\n",
      " 0.06359424 0.0626675  0.05808391 0.04809017 0.05703193 0.05783344\n",
      " 0.04566061 0.04889167 0.04553538 0.05869583 0.05755201 0.05722924\n",
      " 0.057436   0.05791702 0.05851271 0.05914291]\n",
      "7 day output [[0.05977614]]\n",
      "8day input [0.15827176 0.14221666 0.13660614 0.13041954 0.1261866  0.12804008\n",
      " 0.12265498 0.11944897 0.12303068 0.11927364 0.1265623  0.14174076\n",
      " 0.11772073 0.12140263 0.11403882 0.10985598 0.11932373 0.1253851\n",
      " 0.11742016 0.11496556 0.10917971 0.11003131 0.11251096 0.10770194\n",
      " 0.08926738 0.07854728 0.08919224 0.09833438 0.09908579 0.09665623\n",
      " 0.08328115 0.0841077  0.08050094 0.07889793 0.09054477 0.07899812\n",
      " 0.08909205 0.09244834 0.09272386 0.09154665 0.10126487 0.10672511\n",
      " 0.11396368 0.10647464 0.09507827 0.12247965 0.11646838 0.10973075\n",
      " 0.09565435 0.08025047 0.07899812 0.08035066 0.08180338 0.07020664\n",
      " 0.10026299 0.10735128 0.10379461 0.10820288 0.10507201 0.10990607\n",
      " 0.11133375 0.10311835 0.10855354 0.11078272 0.10336882 0.09362555\n",
      " 0.08598622 0.10316844 0.10386976 0.10261741 0.09966187 0.0903444\n",
      " 0.08541014 0.08969317 0.08846587 0.09430182 0.09675642 0.0910958\n",
      " 0.07428929 0.06930495 0.0639449  0.06376957 0.07165936 0.06359424\n",
      " 0.0626675  0.05808391 0.04809017 0.05703193 0.05783344 0.04566061\n",
      " 0.04889167 0.04553538 0.05869583 0.05755201 0.05722924 0.057436\n",
      " 0.05791702 0.05851271 0.05914291 0.05977614]\n",
      "8 day output [[0.06040523]]\n",
      "9day input [0.14221666 0.13660614 0.13041954 0.1261866  0.12804008 0.12265498\n",
      " 0.11944897 0.12303068 0.11927364 0.1265623  0.14174076 0.11772073\n",
      " 0.12140263 0.11403882 0.10985598 0.11932373 0.1253851  0.11742016\n",
      " 0.11496556 0.10917971 0.11003131 0.11251096 0.10770194 0.08926738\n",
      " 0.07854728 0.08919224 0.09833438 0.09908579 0.09665623 0.08328115\n",
      " 0.0841077  0.08050094 0.07889793 0.09054477 0.07899812 0.08909205\n",
      " 0.09244834 0.09272386 0.09154665 0.10126487 0.10672511 0.11396368\n",
      " 0.10647464 0.09507827 0.12247965 0.11646838 0.10973075 0.09565435\n",
      " 0.08025047 0.07899812 0.08035066 0.08180338 0.07020664 0.10026299\n",
      " 0.10735128 0.10379461 0.10820288 0.10507201 0.10990607 0.11133375\n",
      " 0.10311835 0.10855354 0.11078272 0.10336882 0.09362555 0.08598622\n",
      " 0.10316844 0.10386976 0.10261741 0.09966187 0.0903444  0.08541014\n",
      " 0.08969317 0.08846587 0.09430182 0.09675642 0.0910958  0.07428929\n",
      " 0.06930495 0.0639449  0.06376957 0.07165936 0.06359424 0.0626675\n",
      " 0.05808391 0.04809017 0.05703193 0.05783344 0.04566061 0.04889167\n",
      " 0.04553538 0.05869583 0.05755201 0.05722924 0.057436   0.05791702\n",
      " 0.05851271 0.05914291 0.05977614 0.06040523]\n",
      "9 day output [[0.06103254]]\n",
      "10day input [0.13660614 0.13041954 0.1261866  0.12804008 0.12265498 0.11944897\n",
      " 0.12303068 0.11927364 0.1265623  0.14174076 0.11772073 0.12140263\n",
      " 0.11403882 0.10985598 0.11932373 0.1253851  0.11742016 0.11496556\n",
      " 0.10917971 0.11003131 0.11251096 0.10770194 0.08926738 0.07854728\n",
      " 0.08919224 0.09833438 0.09908579 0.09665623 0.08328115 0.0841077\n",
      " 0.08050094 0.07889793 0.09054477 0.07899812 0.08909205 0.09244834\n",
      " 0.09272386 0.09154665 0.10126487 0.10672511 0.11396368 0.10647464\n",
      " 0.09507827 0.12247965 0.11646838 0.10973075 0.09565435 0.08025047\n",
      " 0.07899812 0.08035066 0.08180338 0.07020664 0.10026299 0.10735128\n",
      " 0.10379461 0.10820288 0.10507201 0.10990607 0.11133375 0.10311835\n",
      " 0.10855354 0.11078272 0.10336882 0.09362555 0.08598622 0.10316844\n",
      " 0.10386976 0.10261741 0.09966187 0.0903444  0.08541014 0.08969317\n",
      " 0.08846587 0.09430182 0.09675642 0.0910958  0.07428929 0.06930495\n",
      " 0.0639449  0.06376957 0.07165936 0.06359424 0.0626675  0.05808391\n",
      " 0.04809017 0.05703193 0.05783344 0.04566061 0.04889167 0.04553538\n",
      " 0.05869583 0.05755201 0.05722924 0.057436   0.05791702 0.05851271\n",
      " 0.05914291 0.05977614 0.06040523 0.06103254]\n"
     ]
    },
    {
     "name": "stdout",
     "output_type": "stream",
     "text": [
      "10 day output [[0.06166241]]\n",
      "11day input [0.13041954 0.1261866  0.12804008 0.12265498 0.11944897 0.12303068\n",
      " 0.11927364 0.1265623  0.14174076 0.11772073 0.12140263 0.11403882\n",
      " 0.10985598 0.11932373 0.1253851  0.11742016 0.11496556 0.10917971\n",
      " 0.11003131 0.11251096 0.10770194 0.08926738 0.07854728 0.08919224\n",
      " 0.09833438 0.09908579 0.09665623 0.08328115 0.0841077  0.08050094\n",
      " 0.07889793 0.09054477 0.07899812 0.08909205 0.09244834 0.09272386\n",
      " 0.09154665 0.10126487 0.10672511 0.11396368 0.10647464 0.09507827\n",
      " 0.12247965 0.11646838 0.10973075 0.09565435 0.08025047 0.07899812\n",
      " 0.08035066 0.08180338 0.07020664 0.10026299 0.10735128 0.10379461\n",
      " 0.10820288 0.10507201 0.10990607 0.11133375 0.10311835 0.10855354\n",
      " 0.11078272 0.10336882 0.09362555 0.08598622 0.10316844 0.10386976\n",
      " 0.10261741 0.09966187 0.0903444  0.08541014 0.08969317 0.08846587\n",
      " 0.09430182 0.09675642 0.0910958  0.07428929 0.06930495 0.0639449\n",
      " 0.06376957 0.07165936 0.06359424 0.0626675  0.05808391 0.04809017\n",
      " 0.05703193 0.05783344 0.04566061 0.04889167 0.04553538 0.05869583\n",
      " 0.05755201 0.05722924 0.057436   0.05791702 0.05851271 0.05914291\n",
      " 0.05977614 0.06040523 0.06103254 0.06166241]\n",
      "11 day output [[0.0622981]]\n",
      "12day input [0.1261866  0.12804008 0.12265498 0.11944897 0.12303068 0.11927364\n",
      " 0.1265623  0.14174076 0.11772073 0.12140263 0.11403882 0.10985598\n",
      " 0.11932373 0.1253851  0.11742016 0.11496556 0.10917971 0.11003131\n",
      " 0.11251096 0.10770194 0.08926738 0.07854728 0.08919224 0.09833438\n",
      " 0.09908579 0.09665623 0.08328115 0.0841077  0.08050094 0.07889793\n",
      " 0.09054477 0.07899812 0.08909205 0.09244834 0.09272386 0.09154665\n",
      " 0.10126487 0.10672511 0.11396368 0.10647464 0.09507827 0.12247965\n",
      " 0.11646838 0.10973075 0.09565435 0.08025047 0.07899812 0.08035066\n",
      " 0.08180338 0.07020664 0.10026299 0.10735128 0.10379461 0.10820288\n",
      " 0.10507201 0.10990607 0.11133375 0.10311835 0.10855354 0.11078272\n",
      " 0.10336882 0.09362555 0.08598622 0.10316844 0.10386976 0.10261741\n",
      " 0.09966187 0.0903444  0.08541014 0.08969317 0.08846587 0.09430182\n",
      " 0.09675642 0.0910958  0.07428929 0.06930495 0.0639449  0.06376957\n",
      " 0.07165936 0.06359424 0.0626675  0.05808391 0.04809017 0.05703193\n",
      " 0.05783344 0.04566061 0.04889167 0.04553538 0.05869583 0.05755201\n",
      " 0.05722924 0.057436   0.05791702 0.05851271 0.05914291 0.05977614\n",
      " 0.06040523 0.06103254 0.06166241 0.0622981 ]\n",
      "12 day output [[0.06294096]]\n",
      "13day input [0.12804008 0.12265498 0.11944897 0.12303068 0.11927364 0.1265623\n",
      " 0.14174076 0.11772073 0.12140263 0.11403882 0.10985598 0.11932373\n",
      " 0.1253851  0.11742016 0.11496556 0.10917971 0.11003131 0.11251096\n",
      " 0.10770194 0.08926738 0.07854728 0.08919224 0.09833438 0.09908579\n",
      " 0.09665623 0.08328115 0.0841077  0.08050094 0.07889793 0.09054477\n",
      " 0.07899812 0.08909205 0.09244834 0.09272386 0.09154665 0.10126487\n",
      " 0.10672511 0.11396368 0.10647464 0.09507827 0.12247965 0.11646838\n",
      " 0.10973075 0.09565435 0.08025047 0.07899812 0.08035066 0.08180338\n",
      " 0.07020664 0.10026299 0.10735128 0.10379461 0.10820288 0.10507201\n",
      " 0.10990607 0.11133375 0.10311835 0.10855354 0.11078272 0.10336882\n",
      " 0.09362555 0.08598622 0.10316844 0.10386976 0.10261741 0.09966187\n",
      " 0.0903444  0.08541014 0.08969317 0.08846587 0.09430182 0.09675642\n",
      " 0.0910958  0.07428929 0.06930495 0.0639449  0.06376957 0.07165936\n",
      " 0.06359424 0.0626675  0.05808391 0.04809017 0.05703193 0.05783344\n",
      " 0.04566061 0.04889167 0.04553538 0.05869583 0.05755201 0.05722924\n",
      " 0.057436   0.05791702 0.05851271 0.05914291 0.05977614 0.06040523\n",
      " 0.06103254 0.06166241 0.0622981  0.06294096]\n",
      "13 day output [[0.0635907]]\n",
      "14day input [0.12265498 0.11944897 0.12303068 0.11927364 0.1265623  0.14174076\n",
      " 0.11772073 0.12140263 0.11403882 0.10985598 0.11932373 0.1253851\n",
      " 0.11742016 0.11496556 0.10917971 0.11003131 0.11251096 0.10770194\n",
      " 0.08926738 0.07854728 0.08919224 0.09833438 0.09908579 0.09665623\n",
      " 0.08328115 0.0841077  0.08050094 0.07889793 0.09054477 0.07899812\n",
      " 0.08909205 0.09244834 0.09272386 0.09154665 0.10126487 0.10672511\n",
      " 0.11396368 0.10647464 0.09507827 0.12247965 0.11646838 0.10973075\n",
      " 0.09565435 0.08025047 0.07899812 0.08035066 0.08180338 0.07020664\n",
      " 0.10026299 0.10735128 0.10379461 0.10820288 0.10507201 0.10990607\n",
      " 0.11133375 0.10311835 0.10855354 0.11078272 0.10336882 0.09362555\n",
      " 0.08598622 0.10316844 0.10386976 0.10261741 0.09966187 0.0903444\n",
      " 0.08541014 0.08969317 0.08846587 0.09430182 0.09675642 0.0910958\n",
      " 0.07428929 0.06930495 0.0639449  0.06376957 0.07165936 0.06359424\n",
      " 0.0626675  0.05808391 0.04809017 0.05703193 0.05783344 0.04566061\n",
      " 0.04889167 0.04553538 0.05869583 0.05755201 0.05722924 0.057436\n",
      " 0.05791702 0.05851271 0.05914291 0.05977614 0.06040523 0.06103254\n",
      " 0.06166241 0.0622981  0.06294096 0.0635907 ]\n",
      "14 day output [[0.06424566]]\n",
      "15day input [0.11944897 0.12303068 0.11927364 0.1265623  0.14174076 0.11772073\n",
      " 0.12140263 0.11403882 0.10985598 0.11932373 0.1253851  0.11742016\n",
      " 0.11496556 0.10917971 0.11003131 0.11251096 0.10770194 0.08926738\n",
      " 0.07854728 0.08919224 0.09833438 0.09908579 0.09665623 0.08328115\n",
      " 0.0841077  0.08050094 0.07889793 0.09054477 0.07899812 0.08909205\n",
      " 0.09244834 0.09272386 0.09154665 0.10126487 0.10672511 0.11396368\n",
      " 0.10647464 0.09507827 0.12247965 0.11646838 0.10973075 0.09565435\n",
      " 0.08025047 0.07899812 0.08035066 0.08180338 0.07020664 0.10026299\n",
      " 0.10735128 0.10379461 0.10820288 0.10507201 0.10990607 0.11133375\n",
      " 0.10311835 0.10855354 0.11078272 0.10336882 0.09362555 0.08598622\n",
      " 0.10316844 0.10386976 0.10261741 0.09966187 0.0903444  0.08541014\n",
      " 0.08969317 0.08846587 0.09430182 0.09675642 0.0910958  0.07428929\n",
      " 0.06930495 0.0639449  0.06376957 0.07165936 0.06359424 0.0626675\n",
      " 0.05808391 0.04809017 0.05703193 0.05783344 0.04566061 0.04889167\n",
      " 0.04553538 0.05869583 0.05755201 0.05722924 0.057436   0.05791702\n",
      " 0.05851271 0.05914291 0.05977614 0.06040523 0.06103254 0.06166241\n",
      " 0.0622981  0.06294096 0.0635907  0.06424566]\n",
      "15 day output [[0.06490342]]\n",
      "16day input [0.12303068 0.11927364 0.1265623  0.14174076 0.11772073 0.12140263\n",
      " 0.11403882 0.10985598 0.11932373 0.1253851  0.11742016 0.11496556\n",
      " 0.10917971 0.11003131 0.11251096 0.10770194 0.08926738 0.07854728\n",
      " 0.08919224 0.09833438 0.09908579 0.09665623 0.08328115 0.0841077\n",
      " 0.08050094 0.07889793 0.09054477 0.07899812 0.08909205 0.09244834\n",
      " 0.09272386 0.09154665 0.10126487 0.10672511 0.11396368 0.10647464\n",
      " 0.09507827 0.12247965 0.11646838 0.10973075 0.09565435 0.08025047\n",
      " 0.07899812 0.08035066 0.08180338 0.07020664 0.10026299 0.10735128\n",
      " 0.10379461 0.10820288 0.10507201 0.10990607 0.11133375 0.10311835\n",
      " 0.10855354 0.11078272 0.10336882 0.09362555 0.08598622 0.10316844\n",
      " 0.10386976 0.10261741 0.09966187 0.0903444  0.08541014 0.08969317\n",
      " 0.08846587 0.09430182 0.09675642 0.0910958  0.07428929 0.06930495\n",
      " 0.0639449  0.06376957 0.07165936 0.06359424 0.0626675  0.05808391\n",
      " 0.04809017 0.05703193 0.05783344 0.04566061 0.04889167 0.04553538\n",
      " 0.05869583 0.05755201 0.05722924 0.057436   0.05791702 0.05851271\n",
      " 0.05914291 0.05977614 0.06040523 0.06103254 0.06166241 0.0622981\n",
      " 0.06294096 0.0635907  0.06424566 0.06490342]\n",
      "16 day output [[0.06556132]]\n",
      "17day input [0.11927364 0.1265623  0.14174076 0.11772073 0.12140263 0.11403882\n",
      " 0.10985598 0.11932373 0.1253851  0.11742016 0.11496556 0.10917971\n",
      " 0.11003131 0.11251096 0.10770194 0.08926738 0.07854728 0.08919224\n",
      " 0.09833438 0.09908579 0.09665623 0.08328115 0.0841077  0.08050094\n",
      " 0.07889793 0.09054477 0.07899812 0.08909205 0.09244834 0.09272386\n",
      " 0.09154665 0.10126487 0.10672511 0.11396368 0.10647464 0.09507827\n",
      " 0.12247965 0.11646838 0.10973075 0.09565435 0.08025047 0.07899812\n",
      " 0.08035066 0.08180338 0.07020664 0.10026299 0.10735128 0.10379461\n",
      " 0.10820288 0.10507201 0.10990607 0.11133375 0.10311835 0.10855354\n",
      " 0.11078272 0.10336882 0.09362555 0.08598622 0.10316844 0.10386976\n",
      " 0.10261741 0.09966187 0.0903444  0.08541014 0.08969317 0.08846587\n",
      " 0.09430182 0.09675642 0.0910958  0.07428929 0.06930495 0.0639449\n",
      " 0.06376957 0.07165936 0.06359424 0.0626675  0.05808391 0.04809017\n",
      " 0.05703193 0.05783344 0.04566061 0.04889167 0.04553538 0.05869583\n",
      " 0.05755201 0.05722924 0.057436   0.05791702 0.05851271 0.05914291\n",
      " 0.05977614 0.06040523 0.06103254 0.06166241 0.0622981  0.06294096\n",
      " 0.0635907  0.06424566 0.06490342 0.06556132]\n",
      "17 day output [[0.06621649]]\n",
      "18day input [0.1265623  0.14174076 0.11772073 0.12140263 0.11403882 0.10985598\n",
      " 0.11932373 0.1253851  0.11742016 0.11496556 0.10917971 0.11003131\n",
      " 0.11251096 0.10770194 0.08926738 0.07854728 0.08919224 0.09833438\n",
      " 0.09908579 0.09665623 0.08328115 0.0841077  0.08050094 0.07889793\n",
      " 0.09054477 0.07899812 0.08909205 0.09244834 0.09272386 0.09154665\n",
      " 0.10126487 0.10672511 0.11396368 0.10647464 0.09507827 0.12247965\n",
      " 0.11646838 0.10973075 0.09565435 0.08025047 0.07899812 0.08035066\n",
      " 0.08180338 0.07020664 0.10026299 0.10735128 0.10379461 0.10820288\n",
      " 0.10507201 0.10990607 0.11133375 0.10311835 0.10855354 0.11078272\n",
      " 0.10336882 0.09362555 0.08598622 0.10316844 0.10386976 0.10261741\n",
      " 0.09966187 0.0903444  0.08541014 0.08969317 0.08846587 0.09430182\n",
      " 0.09675642 0.0910958  0.07428929 0.06930495 0.0639449  0.06376957\n",
      " 0.07165936 0.06359424 0.0626675  0.05808391 0.04809017 0.05703193\n",
      " 0.05783344 0.04566061 0.04889167 0.04553538 0.05869583 0.05755201\n",
      " 0.05722924 0.057436   0.05791702 0.05851271 0.05914291 0.05977614\n",
      " 0.06040523 0.06103254 0.06166241 0.0622981  0.06294096 0.0635907\n",
      " 0.06424566 0.06490342 0.06556132 0.06621649]\n",
      "18 day output [[0.06686638]]\n",
      "19day input [0.14174076 0.11772073 0.12140263 0.11403882 0.10985598 0.11932373\n",
      " 0.1253851  0.11742016 0.11496556 0.10917971 0.11003131 0.11251096\n",
      " 0.10770194 0.08926738 0.07854728 0.08919224 0.09833438 0.09908579\n",
      " 0.09665623 0.08328115 0.0841077  0.08050094 0.07889793 0.09054477\n",
      " 0.07899812 0.08909205 0.09244834 0.09272386 0.09154665 0.10126487\n",
      " 0.10672511 0.11396368 0.10647464 0.09507827 0.12247965 0.11646838\n",
      " 0.10973075 0.09565435 0.08025047 0.07899812 0.08035066 0.08180338\n",
      " 0.07020664 0.10026299 0.10735128 0.10379461 0.10820288 0.10507201\n",
      " 0.10990607 0.11133375 0.10311835 0.10855354 0.11078272 0.10336882\n",
      " 0.09362555 0.08598622 0.10316844 0.10386976 0.10261741 0.09966187\n",
      " 0.0903444  0.08541014 0.08969317 0.08846587 0.09430182 0.09675642\n",
      " 0.0910958  0.07428929 0.06930495 0.0639449  0.06376957 0.07165936\n",
      " 0.06359424 0.0626675  0.05808391 0.04809017 0.05703193 0.05783344\n",
      " 0.04566061 0.04889167 0.04553538 0.05869583 0.05755201 0.05722924\n",
      " 0.057436   0.05791702 0.05851271 0.05914291 0.05977614 0.06040523\n",
      " 0.06103254 0.06166241 0.0622981  0.06294096 0.0635907  0.06424566\n",
      " 0.06490342 0.06556132 0.06621649 0.06686638]\n",
      "19 day output [[0.06750873]]\n",
      "20day input [0.11772073 0.12140263 0.11403882 0.10985598 0.11932373 0.1253851\n",
      " 0.11742016 0.11496556 0.10917971 0.11003131 0.11251096 0.10770194\n",
      " 0.08926738 0.07854728 0.08919224 0.09833438 0.09908579 0.09665623\n",
      " 0.08328115 0.0841077  0.08050094 0.07889793 0.09054477 0.07899812\n",
      " 0.08909205 0.09244834 0.09272386 0.09154665 0.10126487 0.10672511\n",
      " 0.11396368 0.10647464 0.09507827 0.12247965 0.11646838 0.10973075\n",
      " 0.09565435 0.08025047 0.07899812 0.08035066 0.08180338 0.07020664\n",
      " 0.10026299 0.10735128 0.10379461 0.10820288 0.10507201 0.10990607\n",
      " 0.11133375 0.10311835 0.10855354 0.11078272 0.10336882 0.09362555\n",
      " 0.08598622 0.10316844 0.10386976 0.10261741 0.09966187 0.0903444\n",
      " 0.08541014 0.08969317 0.08846587 0.09430182 0.09675642 0.0910958\n",
      " 0.07428929 0.06930495 0.0639449  0.06376957 0.07165936 0.06359424\n",
      " 0.0626675  0.05808391 0.04809017 0.05703193 0.05783344 0.04566061\n",
      " 0.04889167 0.04553538 0.05869583 0.05755201 0.05722924 0.057436\n",
      " 0.05791702 0.05851271 0.05914291 0.05977614 0.06040523 0.06103254\n",
      " 0.06166241 0.0622981  0.06294096 0.0635907  0.06424566 0.06490342\n",
      " 0.06556132 0.06621649 0.06686638 0.06750873]\n"
     ]
    },
    {
     "name": "stdout",
     "output_type": "stream",
     "text": [
      "20 day output [[0.06814174]]\n",
      "21day input [0.12140263 0.11403882 0.10985598 0.11932373 0.1253851  0.11742016\n",
      " 0.11496556 0.10917971 0.11003131 0.11251096 0.10770194 0.08926738\n",
      " 0.07854728 0.08919224 0.09833438 0.09908579 0.09665623 0.08328115\n",
      " 0.0841077  0.08050094 0.07889793 0.09054477 0.07899812 0.08909205\n",
      " 0.09244834 0.09272386 0.09154665 0.10126487 0.10672511 0.11396368\n",
      " 0.10647464 0.09507827 0.12247965 0.11646838 0.10973075 0.09565435\n",
      " 0.08025047 0.07899812 0.08035066 0.08180338 0.07020664 0.10026299\n",
      " 0.10735128 0.10379461 0.10820288 0.10507201 0.10990607 0.11133375\n",
      " 0.10311835 0.10855354 0.11078272 0.10336882 0.09362555 0.08598622\n",
      " 0.10316844 0.10386976 0.10261741 0.09966187 0.0903444  0.08541014\n",
      " 0.08969317 0.08846587 0.09430182 0.09675642 0.0910958  0.07428929\n",
      " 0.06930495 0.0639449  0.06376957 0.07165936 0.06359424 0.0626675\n",
      " 0.05808391 0.04809017 0.05703193 0.05783344 0.04566061 0.04889167\n",
      " 0.04553538 0.05869583 0.05755201 0.05722924 0.057436   0.05791702\n",
      " 0.05851271 0.05914291 0.05977614 0.06040523 0.06103254 0.06166241\n",
      " 0.0622981  0.06294096 0.0635907  0.06424566 0.06490342 0.06556132\n",
      " 0.06621649 0.06686638 0.06750873 0.06814174]\n",
      "21 day output [[0.06876408]]\n",
      "22day input [0.11403882 0.10985598 0.11932373 0.1253851  0.11742016 0.11496556\n",
      " 0.10917971 0.11003131 0.11251096 0.10770194 0.08926738 0.07854728\n",
      " 0.08919224 0.09833438 0.09908579 0.09665623 0.08328115 0.0841077\n",
      " 0.08050094 0.07889793 0.09054477 0.07899812 0.08909205 0.09244834\n",
      " 0.09272386 0.09154665 0.10126487 0.10672511 0.11396368 0.10647464\n",
      " 0.09507827 0.12247965 0.11646838 0.10973075 0.09565435 0.08025047\n",
      " 0.07899812 0.08035066 0.08180338 0.07020664 0.10026299 0.10735128\n",
      " 0.10379461 0.10820288 0.10507201 0.10990607 0.11133375 0.10311835\n",
      " 0.10855354 0.11078272 0.10336882 0.09362555 0.08598622 0.10316844\n",
      " 0.10386976 0.10261741 0.09966187 0.0903444  0.08541014 0.08969317\n",
      " 0.08846587 0.09430182 0.09675642 0.0910958  0.07428929 0.06930495\n",
      " 0.0639449  0.06376957 0.07165936 0.06359424 0.0626675  0.05808391\n",
      " 0.04809017 0.05703193 0.05783344 0.04566061 0.04889167 0.04553538\n",
      " 0.05869583 0.05755201 0.05722924 0.057436   0.05791702 0.05851271\n",
      " 0.05914291 0.05977614 0.06040523 0.06103254 0.06166241 0.0622981\n",
      " 0.06294096 0.0635907  0.06424566 0.06490342 0.06556132 0.06621649\n",
      " 0.06686638 0.06750873 0.06814174 0.06876408]\n",
      "22 day output [[0.06937487]]\n",
      "23day input [0.10985598 0.11932373 0.1253851  0.11742016 0.11496556 0.10917971\n",
      " 0.11003131 0.11251096 0.10770194 0.08926738 0.07854728 0.08919224\n",
      " 0.09833438 0.09908579 0.09665623 0.08328115 0.0841077  0.08050094\n",
      " 0.07889793 0.09054477 0.07899812 0.08909205 0.09244834 0.09272386\n",
      " 0.09154665 0.10126487 0.10672511 0.11396368 0.10647464 0.09507827\n",
      " 0.12247965 0.11646838 0.10973075 0.09565435 0.08025047 0.07899812\n",
      " 0.08035066 0.08180338 0.07020664 0.10026299 0.10735128 0.10379461\n",
      " 0.10820288 0.10507201 0.10990607 0.11133375 0.10311835 0.10855354\n",
      " 0.11078272 0.10336882 0.09362555 0.08598622 0.10316844 0.10386976\n",
      " 0.10261741 0.09966187 0.0903444  0.08541014 0.08969317 0.08846587\n",
      " 0.09430182 0.09675642 0.0910958  0.07428929 0.06930495 0.0639449\n",
      " 0.06376957 0.07165936 0.06359424 0.0626675  0.05808391 0.04809017\n",
      " 0.05703193 0.05783344 0.04566061 0.04889167 0.04553538 0.05869583\n",
      " 0.05755201 0.05722924 0.057436   0.05791702 0.05851271 0.05914291\n",
      " 0.05977614 0.06040523 0.06103254 0.06166241 0.0622981  0.06294096\n",
      " 0.0635907  0.06424566 0.06490342 0.06556132 0.06621649 0.06686638\n",
      " 0.06750873 0.06814174 0.06876408 0.06937487]\n",
      "23 day output [[0.06997369]]\n",
      "24day input [0.11932373 0.1253851  0.11742016 0.11496556 0.10917971 0.11003131\n",
      " 0.11251096 0.10770194 0.08926738 0.07854728 0.08919224 0.09833438\n",
      " 0.09908579 0.09665623 0.08328115 0.0841077  0.08050094 0.07889793\n",
      " 0.09054477 0.07899812 0.08909205 0.09244834 0.09272386 0.09154665\n",
      " 0.10126487 0.10672511 0.11396368 0.10647464 0.09507827 0.12247965\n",
      " 0.11646838 0.10973075 0.09565435 0.08025047 0.07899812 0.08035066\n",
      " 0.08180338 0.07020664 0.10026299 0.10735128 0.10379461 0.10820288\n",
      " 0.10507201 0.10990607 0.11133375 0.10311835 0.10855354 0.11078272\n",
      " 0.10336882 0.09362555 0.08598622 0.10316844 0.10386976 0.10261741\n",
      " 0.09966187 0.0903444  0.08541014 0.08969317 0.08846587 0.09430182\n",
      " 0.09675642 0.0910958  0.07428929 0.06930495 0.0639449  0.06376957\n",
      " 0.07165936 0.06359424 0.0626675  0.05808391 0.04809017 0.05703193\n",
      " 0.05783344 0.04566061 0.04889167 0.04553538 0.05869583 0.05755201\n",
      " 0.05722924 0.057436   0.05791702 0.05851271 0.05914291 0.05977614\n",
      " 0.06040523 0.06103254 0.06166241 0.0622981  0.06294096 0.0635907\n",
      " 0.06424566 0.06490342 0.06556132 0.06621649 0.06686638 0.06750873\n",
      " 0.06814174 0.06876408 0.06937487 0.06997369]\n",
      "24 day output [[0.07056047]]\n",
      "25day input [0.1253851  0.11742016 0.11496556 0.10917971 0.11003131 0.11251096\n",
      " 0.10770194 0.08926738 0.07854728 0.08919224 0.09833438 0.09908579\n",
      " 0.09665623 0.08328115 0.0841077  0.08050094 0.07889793 0.09054477\n",
      " 0.07899812 0.08909205 0.09244834 0.09272386 0.09154665 0.10126487\n",
      " 0.10672511 0.11396368 0.10647464 0.09507827 0.12247965 0.11646838\n",
      " 0.10973075 0.09565435 0.08025047 0.07899812 0.08035066 0.08180338\n",
      " 0.07020664 0.10026299 0.10735128 0.10379461 0.10820288 0.10507201\n",
      " 0.10990607 0.11133375 0.10311835 0.10855354 0.11078272 0.10336882\n",
      " 0.09362555 0.08598622 0.10316844 0.10386976 0.10261741 0.09966187\n",
      " 0.0903444  0.08541014 0.08969317 0.08846587 0.09430182 0.09675642\n",
      " 0.0910958  0.07428929 0.06930495 0.0639449  0.06376957 0.07165936\n",
      " 0.06359424 0.0626675  0.05808391 0.04809017 0.05703193 0.05783344\n",
      " 0.04566061 0.04889167 0.04553538 0.05869583 0.05755201 0.05722924\n",
      " 0.057436   0.05791702 0.05851271 0.05914291 0.05977614 0.06040523\n",
      " 0.06103254 0.06166241 0.0622981  0.06294096 0.0635907  0.06424566\n",
      " 0.06490342 0.06556132 0.06621649 0.06686638 0.06750873 0.06814174\n",
      " 0.06876408 0.06937487 0.06997369 0.07056047]\n",
      "25 day output [[0.0711354]]\n",
      "26day input [0.11742016 0.11496556 0.10917971 0.11003131 0.11251096 0.10770194\n",
      " 0.08926738 0.07854728 0.08919224 0.09833438 0.09908579 0.09665623\n",
      " 0.08328115 0.0841077  0.08050094 0.07889793 0.09054477 0.07899812\n",
      " 0.08909205 0.09244834 0.09272386 0.09154665 0.10126487 0.10672511\n",
      " 0.11396368 0.10647464 0.09507827 0.12247965 0.11646838 0.10973075\n",
      " 0.09565435 0.08025047 0.07899812 0.08035066 0.08180338 0.07020664\n",
      " 0.10026299 0.10735128 0.10379461 0.10820288 0.10507201 0.10990607\n",
      " 0.11133375 0.10311835 0.10855354 0.11078272 0.10336882 0.09362555\n",
      " 0.08598622 0.10316844 0.10386976 0.10261741 0.09966187 0.0903444\n",
      " 0.08541014 0.08969317 0.08846587 0.09430182 0.09675642 0.0910958\n",
      " 0.07428929 0.06930495 0.0639449  0.06376957 0.07165936 0.06359424\n",
      " 0.0626675  0.05808391 0.04809017 0.05703193 0.05783344 0.04566061\n",
      " 0.04889167 0.04553538 0.05869583 0.05755201 0.05722924 0.057436\n",
      " 0.05791702 0.05851271 0.05914291 0.05977614 0.06040523 0.06103254\n",
      " 0.06166241 0.0622981  0.06294096 0.0635907  0.06424566 0.06490342\n",
      " 0.06556132 0.06621649 0.06686638 0.06750873 0.06814174 0.06876408\n",
      " 0.06937487 0.06997369 0.07056047 0.0711354 ]\n",
      "26 day output [[0.07169893]]\n",
      "27day input [0.11496556 0.10917971 0.11003131 0.11251096 0.10770194 0.08926738\n",
      " 0.07854728 0.08919224 0.09833438 0.09908579 0.09665623 0.08328115\n",
      " 0.0841077  0.08050094 0.07889793 0.09054477 0.07899812 0.08909205\n",
      " 0.09244834 0.09272386 0.09154665 0.10126487 0.10672511 0.11396368\n",
      " 0.10647464 0.09507827 0.12247965 0.11646838 0.10973075 0.09565435\n",
      " 0.08025047 0.07899812 0.08035066 0.08180338 0.07020664 0.10026299\n",
      " 0.10735128 0.10379461 0.10820288 0.10507201 0.10990607 0.11133375\n",
      " 0.10311835 0.10855354 0.11078272 0.10336882 0.09362555 0.08598622\n",
      " 0.10316844 0.10386976 0.10261741 0.09966187 0.0903444  0.08541014\n",
      " 0.08969317 0.08846587 0.09430182 0.09675642 0.0910958  0.07428929\n",
      " 0.06930495 0.0639449  0.06376957 0.07165936 0.06359424 0.0626675\n",
      " 0.05808391 0.04809017 0.05703193 0.05783344 0.04566061 0.04889167\n",
      " 0.04553538 0.05869583 0.05755201 0.05722924 0.057436   0.05791702\n",
      " 0.05851271 0.05914291 0.05977614 0.06040523 0.06103254 0.06166241\n",
      " 0.0622981  0.06294096 0.0635907  0.06424566 0.06490342 0.06556132\n",
      " 0.06621649 0.06686638 0.06750873 0.06814174 0.06876408 0.06937487\n",
      " 0.06997369 0.07056047 0.0711354  0.07169893]\n",
      "27 day output [[0.07225167]]\n",
      "28day input [0.10917971 0.11003131 0.11251096 0.10770194 0.08926738 0.07854728\n",
      " 0.08919224 0.09833438 0.09908579 0.09665623 0.08328115 0.0841077\n",
      " 0.08050094 0.07889793 0.09054477 0.07899812 0.08909205 0.09244834\n",
      " 0.09272386 0.09154665 0.10126487 0.10672511 0.11396368 0.10647464\n",
      " 0.09507827 0.12247965 0.11646838 0.10973075 0.09565435 0.08025047\n",
      " 0.07899812 0.08035066 0.08180338 0.07020664 0.10026299 0.10735128\n",
      " 0.10379461 0.10820288 0.10507201 0.10990607 0.11133375 0.10311835\n",
      " 0.10855354 0.11078272 0.10336882 0.09362555 0.08598622 0.10316844\n",
      " 0.10386976 0.10261741 0.09966187 0.0903444  0.08541014 0.08969317\n",
      " 0.08846587 0.09430182 0.09675642 0.0910958  0.07428929 0.06930495\n",
      " 0.0639449  0.06376957 0.07165936 0.06359424 0.0626675  0.05808391\n",
      " 0.04809017 0.05703193 0.05783344 0.04566061 0.04889167 0.04553538\n",
      " 0.05869583 0.05755201 0.05722924 0.057436   0.05791702 0.05851271\n",
      " 0.05914291 0.05977614 0.06040523 0.06103254 0.06166241 0.0622981\n",
      " 0.06294096 0.0635907  0.06424566 0.06490342 0.06556132 0.06621649\n",
      " 0.06686638 0.06750873 0.06814174 0.06876408 0.06937487 0.06997369\n",
      " 0.07056047 0.0711354  0.07169893 0.07225167]\n",
      "28 day output [[0.07279427]]\n",
      "29day input [0.11003131 0.11251096 0.10770194 0.08926738 0.07854728 0.08919224\n",
      " 0.09833438 0.09908579 0.09665623 0.08328115 0.0841077  0.08050094\n",
      " 0.07889793 0.09054477 0.07899812 0.08909205 0.09244834 0.09272386\n",
      " 0.09154665 0.10126487 0.10672511 0.11396368 0.10647464 0.09507827\n",
      " 0.12247965 0.11646838 0.10973075 0.09565435 0.08025047 0.07899812\n",
      " 0.08035066 0.08180338 0.07020664 0.10026299 0.10735128 0.10379461\n",
      " 0.10820288 0.10507201 0.10990607 0.11133375 0.10311835 0.10855354\n",
      " 0.11078272 0.10336882 0.09362555 0.08598622 0.10316844 0.10386976\n",
      " 0.10261741 0.09966187 0.0903444  0.08541014 0.08969317 0.08846587\n",
      " 0.09430182 0.09675642 0.0910958  0.07428929 0.06930495 0.0639449\n",
      " 0.06376957 0.07165936 0.06359424 0.0626675  0.05808391 0.04809017\n",
      " 0.05703193 0.05783344 0.04566061 0.04889167 0.04553538 0.05869583\n",
      " 0.05755201 0.05722924 0.057436   0.05791702 0.05851271 0.05914291\n",
      " 0.05977614 0.06040523 0.06103254 0.06166241 0.0622981  0.06294096\n",
      " 0.0635907  0.06424566 0.06490342 0.06556132 0.06621649 0.06686638\n",
      " 0.06750873 0.06814174 0.06876408 0.06937487 0.06997369 0.07056047\n",
      " 0.0711354  0.07169893 0.07225167 0.07279427]\n",
      "29 day output [[0.07332744]]\n",
      "[[0.05869583413004875], [0.05755200982093811], [0.057229239493608475], [0.05743599683046341], [0.057917021214962006], [0.05851271376013756], [0.05914291366934776], [0.05977613851428032], [0.06040523201227188], [0.06103254482150078], [0.06166241317987442], [0.06229810044169426], [0.06294095516204834], [0.06359069794416428], [0.06424565613269806], [0.06490342319011688], [0.06556131690740585], [0.06621649116277695], [0.06686638295650482], [0.06750872731208801], [0.06814174354076385], [0.06876407563686371], [0.06937487423419952], [0.06997369229793549], [0.07056047022342682], [0.07113540172576904], [0.07169892638921738], [0.07225167006254196], [0.07279426604509354], [0.07332743704319]]\n"
     ]
    }
   ],
   "source": [
    "from numpy import array\n",
    "lst_output=[]\n",
    "n_steps=100\n",
    "i=0\n",
    "while(i<30):\n",
    "    if(len(temp_input)>100):\n",
    "        x_input=np.array(temp_input[1:])\n",
    "        print(\"{}day input {}\".format(i,x_input))\n",
    "        x_input=x_input.reshape(1,-1)\n",
    "        x_input=x_input.reshape((1,n_steps,1))\n",
    "        yhat=model.predict(x_input,verbose=0)\n",
    "        print(\"{} day output {}\".format(i,yhat))\n",
    "        temp_input.extend(yhat[0].tolist())\n",
    "        temp_input=temp_input[1:]\n",
    "        lst_output.extend(yhat.tolist())\n",
    "        i=i+1\n",
    "    else:\n",
    "        x_input=x_input.reshape((1,n_steps,1))\n",
    "        yhat=model.predict(x_input,verbose=0)\n",
    "        print(yhat[0])\n",
    "        temp_input.extend(yhat[0].tolist())\n",
    "        print(len(temp_input))\n",
    "        lst_output.extend(yhat.tolist())\n",
    "        i=i+1\n",
    "\n",
    "print(lst_output)"
   ]
  },
  {
   "cell_type": "code",
   "execution_count": 35,
   "id": "50ad1b6c",
   "metadata": {},
   "outputs": [],
   "source": [
    "day_new=np.arange(1,101)\n",
    "day_pred=np.arange(101,131)"
   ]
  },
  {
   "cell_type": "code",
   "execution_count": 36,
   "id": "950ac0bc",
   "metadata": {},
   "outputs": [
    {
     "data": {
      "text/plain": [
       "1258"
      ]
     },
     "execution_count": 36,
     "metadata": {},
     "output_type": "execute_result"
    }
   ],
   "source": [
    "len(df1)\n"
   ]
  },
  {
   "cell_type": "code",
   "execution_count": 37,
   "id": "9b6ba40f",
   "metadata": {},
   "outputs": [],
   "source": [
    "import matplotlib.pyplot as plt \n",
    "df3=df1.tolist()\n",
    "df3.extend(lst_output)"
   ]
  },
  {
   "cell_type": "code",
   "execution_count": 49,
   "id": "a9979ab2",
   "metadata": {},
   "outputs": [
    {
     "name": "stdout",
     "output_type": "stream",
     "text": [
      "Orange line is predicted price for next 30 days(7-01-2023 to 7-2-2023)\n"
     ]
    },
    {
     "data": {
      "text/plain": [
       "Text(0, 0.5, 'Close_Price_USD')"
      ]
     },
     "execution_count": 49,
     "metadata": {},
     "output_type": "execute_result"
    },
    {
     "data": {
      "image/png": "[encoded data removed]",
      "text/plain": [
       "<Figure size 432x288 with 1 Axes>"
      ]
     },
     "metadata": {
      "needs_background": "light"
     },
     "output_type": "display_data"
    }
   ],
   "source": [
    "print(\"Orange line is predicted price for next 30 days(7-01-2023 to 7-2-2023)\")\n",
    "plt.plot(day_new,scaler.inverse_transform(df1[1158:]))\n",
    "plt.plot(day_pred,scaler.inverse_transform(lst_output))\n",
    "plt.xlabel(\"Apple_StockPrice_day(22-06-2022 to 7-1-2023)\")\n",
    "plt.ylabel(\"Close_Price_USD\")"
   ]
  },
  {
   "cell_type": "code",
   "execution_count": 41,
   "id": "3b87a690",
   "metadata": {},
   "outputs": [
    {
     "data": {
      "text/plain": [
       "1288"
      ]
     },
     "execution_count": 41,
     "metadata": {},
     "output_type": "execute_result"
    }
   ],
   "source": [
    "len (df3)"
   ]
  },
  {
   "cell_type": "code",
   "execution_count": 42,
   "id": "1b3d8672",
   "metadata": {},
   "outputs": [
    {
     "data": {
      "text/plain": [
       "Text(0, 0.5, 'Close_Price_USD')"
      ]
     },
     "execution_count": 42,
     "metadata": {},
     "output_type": "execute_result"
    },
    {
     "data": {
      "image/png": "[encoded data removed]",
      "text/plain": [
       "<Figure size 432x288 with 1 Axes>"
      ]
     },
     "metadata": {
      "needs_background": "light"
     },
     "output_type": "display_data"
    }
   ],
   "source": [
    "df3=scaler.inverse_transform(df3)\n",
    "plt.plot(df3[1200:])\n",
    "plt.xlabel(\"Apple_StockPrice_day(01-08-2022 to 14-12-2022)\")\n",
    "plt.ylabel(\"Close_Price_USD\")"
   ]
  },
  {
   "cell_type": "code",
   "execution_count": 43,
   "id": "2a7526d9",
   "metadata": {},
   "outputs": [
    {
     "data": {
      "text/plain": [
       "array([[130.27431178],\n",
       "       [129.81763992],\n",
       "       [129.68877387],\n",
       "       [129.77132173],\n",
       "       [129.96337072],\n",
       "       [130.20120097],\n",
       "       [130.45280828],\n",
       "       [130.7056233 ],\n",
       "       [130.95678888],\n",
       "       [131.20724352],\n",
       "       [131.45871846],\n",
       "       [131.7125166 ],\n",
       "       [131.96917635],\n",
       "       [132.22858615],\n",
       "       [132.49007821],\n",
       "       [132.75269171],\n",
       "       [133.01535578],\n",
       "       [133.2769341 ],\n",
       "       [133.5364034 ],\n",
       "       [133.79285938],\n",
       "       [134.04559111],\n",
       "       [134.2940572 ],\n",
       "       [134.53791854],\n",
       "       [134.77699665],\n",
       "       [135.01126774],\n",
       "       [135.24080914],\n",
       "       [135.46579636],\n",
       "       [135.68647927],\n",
       "       [135.90311072],\n",
       "       [136.11597924]])"
      ]
     },
     "execution_count": 43,
     "metadata": {},
     "output_type": "execute_result"
    }
   ],
   "source": [
    "scaler.inverse_transform(lst_output)\n"
   ]
  },
  {
   "cell_type": "code",
   "execution_count": 44,
   "id": "8c3388e1",
   "metadata": {},
   "outputs": [
    {
     "data": {
      "text/plain": [
       "array([[130.27431178],\n",
       "       [129.81763992],\n",
       "       [129.68877387],\n",
       "       [129.77132173],\n",
       "       [129.96337072],\n",
       "       [130.20120097],\n",
       "       [130.45280828],\n",
       "       [130.7056233 ],\n",
       "       [130.95678888],\n",
       "       [131.20724352],\n",
       "       [131.45871846],\n",
       "       [131.7125166 ],\n",
       "       [131.96917635],\n",
       "       [132.22858615],\n",
       "       [132.49007821],\n",
       "       [132.75269171],\n",
       "       [133.01535578],\n",
       "       [133.2769341 ],\n",
       "       [133.5364034 ],\n",
       "       [133.79285938],\n",
       "       [134.04559111],\n",
       "       [134.2940572 ],\n",
       "       [134.53791854],\n",
       "       [134.77699665],\n",
       "       [135.01126774],\n",
       "       [135.24080914],\n",
       "       [135.46579636],\n",
       "       [135.68647927],\n",
       "       [135.90311072],\n",
       "       [136.11597924]])"
      ]
     },
     "execution_count": 44,
     "metadata": {},
     "output_type": "execute_result"
    }
   ],
   "source": [
    "scaler.inverse_transform(lst_output)\n"
   ]
  },
  {
   "cell_type": "code",
   "execution_count": 48,
   "id": "5ee38237",
   "metadata": {},
   "outputs": [
    {
     "name": "stdout",
     "output_type": "stream",
     "text": [
      "Price predicted of tommorow(8-1-2023)-\n"
     ]
    },
    {
     "data": {
      "text/plain": [
       "array([[130.27431178]])"
      ]
     },
     "execution_count": 48,
     "metadata": {},
     "output_type": "execute_result"
    }
   ],
   "source": [
    "print(\"Price predicted of tommorow(8-1-2023)-\")\n",
    "scaler.inverse_transform(lst_output[0:1])"
   ]
  },
  {
   "cell_type": "code",
   "execution_count": null,
   "id": "dc3c8859",
   "metadata": {},
   "outputs": [],
   "source": []
  }
 ],
 "metadata": {
  "kernelspec": {
   "display_name": "Python 3 (ipykernel)",
   "language": "python",
   "name": "python3"
  },
  "language_info": {
   "codemirror_mode": {
    "name": "ipython",
    "version": 3
   },
   "file_extension": ".py",
   "mimetype": "text/x-python",
   "name": "python",
   "nbconvert_exporter": "python",
   "pygments_lexer": "ipython3",
   "version": "3.10.4"
  }
 },
 "nbformat": 4,
 "nbformat_minor": 5
}
